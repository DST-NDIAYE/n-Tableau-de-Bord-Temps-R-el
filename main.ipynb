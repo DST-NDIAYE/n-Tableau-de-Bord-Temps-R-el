{
 "cells": [
  {
   "cell_type": "code",
   "execution_count": 2,
   "metadata": {},
   "outputs": [
    {
     "name": "stdout",
     "output_type": "stream",
     "text": [
      "      Name  Age      City\n",
      "0    Alice   25      Rome\n",
      "1      Bob   33     Milan\n",
      "2  Charlie   47    Naples\n",
      "3    David   19     Turin\n",
      "4      Eva   28  Florence\n"
     ]
    }
   ],
   "source": [
    "import pandas as pd\n",
    "# Creating a Dataframe from a Dictionary\n",
    "data = {'Name': ['Alice', 'Bob', 'Charlie', 'David', 'Eva', 'Mauro'],\n",
    "'Age': [25, 33, 47, 19, 28, 17],\n",
    "'City': ['Rome', 'Milan', 'Naples', 'Turin', 'Florence', 'Turin']}\n",
    "df = pd.DataFrame(data)\n",
    "# Print the first 5 rows of the dataframe\n",
    "print(df.head())"
   ]
  }
 ],
 "metadata": {
  "kernelspec": {
   "display_name": "base",
   "language": "python",
   "name": "python3"
  },
  "language_info": {
   "codemirror_mode": {
    "name": "ipython",
    "version": 3
   },
   "file_extension": ".py",
   "mimetype": "text/x-python",
   "name": "python",
   "nbconvert_exporter": "python",
   "pygments_lexer": "ipython3",
   "version": "3.12.4"
  }
 },
 "nbformat": 4,
 "nbformat_minor": 2
}
